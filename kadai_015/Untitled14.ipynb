{
  "nbformat": 4,
  "nbformat_minor": 0,
  "metadata": {
    "colab": {
      "provenance": []
    },
    "kernelspec": {
      "name": "python3",
      "display_name": "Python 3"
    },
    "language_info": {
      "name": "python"
    }
  },
  "cells": [
    {
      "cell_type": "code",
      "source": [
        "class Human:\n",
        "\n",
        "    def __init__(self, name, age):\n",
        "        self.name = name\n",
        "        self.age = age\n",
        "\n",
        "    def printinfo(self):\n",
        "      print(self.name, self.age)\n",
        "\n",
        "person = Human(\"侍太郎\", 36)\n",
        "\n",
        "person.printinfo()"
      ],
      "metadata": {
        "colab": {
          "base_uri": "https://localhost:8080/"
        },
        "id": "DC37iaMFEy_d",
        "outputId": "560dbcf8-fb36-41f0-e671-f18df5b10eee"
      },
      "execution_count": 8,
      "outputs": [
        {
          "output_type": "stream",
          "name": "stdout",
          "text": [
            "侍太郎 36\n"
          ]
        }
      ]
    }
  ]
}