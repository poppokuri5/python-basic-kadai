{
  "nbformat": 4,
  "nbformat_minor": 0,
  "metadata": {
    "colab": {
      "provenance": []
    },
    "kernelspec": {
      "name": "python3",
      "display_name": "Python 3"
    },
    "language_info": {
      "name": "python"
    }
  },
  "cells": [
    {
      "cell_type": "code",
      "execution_count": 20,
      "metadata": {
        "colab": {
          "base_uri": "https://localhost:8080/"
        },
        "id": "W1JICKd_NUSV",
        "outputId": "a949292a-f6f7-4197-bc6b-ae4fa5cd9688"
      },
      "outputs": [
        {
          "output_type": "stream",
          "name": "stdout",
          "text": [
            "商品の合計金額は1100.0円\n"
          ]
        }
      ],
      "source": [
        "def calculate_total(price, tax_rate=0.10):\n",
        "\n",
        "    total = price + (price * tax_rate)\n",
        "\n",
        "    print(f\"商品の合計金額は{total}円\")\n",
        "\n",
        "price = 1000\n",
        "\n",
        "calculate_total(price)"
      ]
    }
  ]
}