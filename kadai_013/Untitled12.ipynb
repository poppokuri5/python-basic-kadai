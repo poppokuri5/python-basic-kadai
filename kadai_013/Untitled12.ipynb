{
  "nbformat": 4,
  "nbformat_minor": 0,
  "metadata": {
    "colab": {
      "provenance": []
    },
    "kernelspec": {
      "name": "python3",
      "display_name": "Python 3"
    },
    "language_info": {
      "name": "python"
    }
  },
  "cells": [
    {
      "cell_type": "code",
      "execution_count": 32,
      "metadata": {
        "colab": {
          "base_uri": "https://localhost:8080/"
        },
        "id": "W1JICKd_NUSV",
        "outputId": "61f9739a-1ac5-4b24-cb40-7a5a37e58aa9"
      },
      "outputs": [
        {
          "output_type": "stream",
          "name": "stdout",
          "text": [
            "商品の合計金額は1100.0円\n"
          ]
        }
      ],
      "source": [
        "def calculate_total(price, tax_rate=0.10):\n",
        "\n",
        "    total = price + (price * tax_rate)\n",
        "\n",
        "    return total\n",
        "\n",
        "price = 1000\n",
        "\n",
        "total_price = calculate_total(price, tax_rate)\n",
        "\n",
        "print(f\"商品の合計金額は{total_price}円\")"
      ]
    },
    {
      "cell_type": "markdown",
      "source": [],
      "metadata": {
        "id": "rSi73VqubPfG"
      }
    }
  ]
}