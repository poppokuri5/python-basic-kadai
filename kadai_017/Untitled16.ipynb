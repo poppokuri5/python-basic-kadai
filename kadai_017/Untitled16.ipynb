{
  "nbformat": 4,
  "nbformat_minor": 0,
  "metadata": {
    "colab": {
      "provenance": []
    },
    "kernelspec": {
      "name": "python3",
      "display_name": "Python 3"
    },
    "language_info": {
      "name": "python"
    }
  },
  "cells": [
    {
      "cell_type": "code",
      "execution_count": 10,
      "metadata": {
        "id": "o3If7wZ4Fktt",
        "colab": {
          "base_uri": "https://localhost:8080/"
        },
        "outputId": "ced9674a-8064-4e1e-bdd2-3a86c44800e2"
      },
      "outputs": [
        {
          "output_type": "stream",
          "name": "stdout",
          "text": [
            "太郎は大人です\n",
            "次郎は大人です\n",
            "三朗は大人です\n",
            "櫻子は大人でありません\n"
          ]
        }
      ],
      "source": [
        "class Human:\n",
        "\n",
        "    def __init__(self, name, age):\n",
        "        self.name = name\n",
        "        self.age = age\n",
        "\n",
        "    def check_adult(self):\n",
        "        if self.age >= 20:\n",
        "           print(f\"{self.name}は大人です\")\n",
        "        else:\n",
        "           print(f\"{self.name}は大人でありません\")\n",
        "\n",
        "persons = [\n",
        "           Human(\"太郎\", 32),\n",
        "           Human(\"次郎\", 31),\n",
        "           Human(\"三朗\", 28),\n",
        "           Human(\"櫻子\",19)\n",
        "           ]\n",
        "\n",
        "for person in persons:\n",
        "    person.check_adult()\n"
      ]
    }
  ]
}